{
 "cells": [
  {
   "cell_type": "code",
   "execution_count": 1,
   "id": "0d9d9a28",
   "metadata": {},
   "outputs": [],
   "source": [
    "import findspark\n",
    "findspark.init()"
   ]
  },
  {
   "cell_type": "code",
   "execution_count": 2,
   "id": "6e897b06",
   "metadata": {},
   "outputs": [],
   "source": [
    "from pyspark.sql import SparkSession\n",
    "from pyspark.sql.functions import col, row_number, countDistinct\n",
    "from pyspark.sql.window import Window\n"
   ]
  },
  {
   "cell_type": "code",
   "execution_count": 3,
   "id": "82bd29a0",
   "metadata": {},
   "outputs": [
    {
     "name": "stderr",
     "output_type": "stream",
     "text": [
      "Setting default log level to \"WARN\".\n",
      "To adjust logging level use sc.setLogLevel(newLevel). For SparkR, use setLogLevel(newLevel).\n"
     ]
    },
    {
     "name": "stdout",
     "output_type": "stream",
     "text": [
      "22/09/09 23:48:50 WARN NativeCodeLoader: Unable to load native-hadoop library for your platform... using builtin-java classes where applicable\n",
      "22/09/09 23:48:51 WARN Utils: Service 'SparkUI' could not bind on port 4040. Attempting port 4041.\n"
     ]
    }
   ],
   "source": [
    "spark = SparkSession.builder.appName(\"BCG Analysis\").getOrCreate()"
   ]
  },
  {
   "cell_type": "code",
   "execution_count": 4,
   "id": "6203582f",
   "metadata": {},
   "outputs": [
    {
     "data": {
      "text/html": [
       "\n",
       "            <div>\n",
       "                <p><b>SparkSession - in-memory</b></p>\n",
       "                \n",
       "        <div>\n",
       "            <p><b>SparkContext</b></p>\n",
       "\n",
       "            <p><a href=\"http://192.168.0.102:4041\">Spark UI</a></p>\n",
       "\n",
       "            <dl>\n",
       "              <dt>Version</dt>\n",
       "                <dd><code>v3.3.0</code></dd>\n",
       "              <dt>Master</dt>\n",
       "                <dd><code>local[*]</code></dd>\n",
       "              <dt>AppName</dt>\n",
       "                <dd><code>BCG Analysis</code></dd>\n",
       "            </dl>\n",
       "        </div>\n",
       "        \n",
       "            </div>\n",
       "        "
      ],
      "text/plain": [
       "<pyspark.sql.session.SparkSession at 0x10348c130>"
      ]
     },
     "execution_count": 4,
     "metadata": {},
     "output_type": "execute_result"
    }
   ],
   "source": [
    "spark"
   ]
  },
  {
   "cell_type": "markdown",
   "id": "17d7d248",
   "metadata": {},
   "source": [
    "# Analysis 1: Find the number of crashes (accidents) in which number of persons killed are male?"
   ]
  },
  {
   "cell_type": "markdown",
   "id": "28135a2c",
   "metadata": {},
   "source": [
    "#### According to data dictionary - Primary_Person_use.csv has the Car crash info with gender details - PRSN_GNDR_ID"
   ]
  },
  {
   "cell_type": "code",
   "execution_count": 5,
   "id": "3b6346e2",
   "metadata": {},
   "outputs": [
    {
     "name": "stderr",
     "output_type": "stream",
     "text": [
      "\r",
      "[Stage 1:>                                                        (0 + 10) / 10]\r",
      "\r",
      "                                                                                \r"
     ]
    },
    {
     "name": "stdout",
     "output_type": "stream",
     "text": [
      "22/09/09 23:48:56 WARN package: Truncated the string representation of a plan since it was too large. This behavior can be adjusted by setting 'spark.sql.debug.maxToStringFields'.\n",
      "root\n",
      " |-- CRASH_ID: integer (nullable = true)\n",
      " |-- UNIT_NBR: integer (nullable = true)\n",
      " |-- PRSN_NBR: integer (nullable = true)\n",
      " |-- PRSN_TYPE_ID: string (nullable = true)\n",
      " |-- PRSN_OCCPNT_POS_ID: string (nullable = true)\n",
      " |-- PRSN_INJRY_SEV_ID: string (nullable = true)\n",
      " |-- PRSN_AGE: string (nullable = true)\n",
      " |-- PRSN_ETHNICITY_ID: string (nullable = true)\n",
      " |-- PRSN_GNDR_ID: string (nullable = true)\n",
      " |-- PRSN_EJCT_ID: string (nullable = true)\n",
      " |-- PRSN_REST_ID: string (nullable = true)\n",
      " |-- PRSN_AIRBAG_ID: string (nullable = true)\n",
      " |-- PRSN_HELMET_ID: string (nullable = true)\n",
      " |-- PRSN_SOL_FL: string (nullable = true)\n",
      " |-- PRSN_ALC_SPEC_TYPE_ID: string (nullable = true)\n",
      " |-- PRSN_ALC_RSLT_ID: string (nullable = true)\n",
      " |-- PRSN_BAC_TEST_RSLT: string (nullable = true)\n",
      " |-- PRSN_DRG_SPEC_TYPE_ID: string (nullable = true)\n",
      " |-- PRSN_DRG_RSLT_ID: string (nullable = true)\n",
      " |-- DRVR_DRG_CAT_1_ID: string (nullable = true)\n",
      " |-- PRSN_DEATH_TIME: timestamp (nullable = true)\n",
      " |-- INCAP_INJRY_CNT: integer (nullable = true)\n",
      " |-- NONINCAP_INJRY_CNT: integer (nullable = true)\n",
      " |-- POSS_INJRY_CNT: integer (nullable = true)\n",
      " |-- NON_INJRY_CNT: integer (nullable = true)\n",
      " |-- UNKN_INJRY_CNT: integer (nullable = true)\n",
      " |-- TOT_INJRY_CNT: integer (nullable = true)\n",
      " |-- DEATH_CNT: integer (nullable = true)\n",
      " |-- DRVR_LIC_TYPE_ID: string (nullable = true)\n",
      " |-- DRVR_LIC_STATE_ID: string (nullable = true)\n",
      " |-- DRVR_LIC_CLS_ID: string (nullable = true)\n",
      " |-- DRVR_ZIP: string (nullable = true)\n",
      "\n"
     ]
    }
   ],
   "source": [
    "# Read the Primary_Person_use.csv\n",
    "Primary_person_use_df = spark.read.csv(\"Data/Primary_Person_use.csv\", header=True, inferSchema=True)\n",
    "Primary_person_use_df.cache()\n",
    "Primary_person_use_df.head(5)\n",
    "Primary_person_use_df.printSchema()"
   ]
  },
  {
   "cell_type": "code",
   "execution_count": 6,
   "id": "185ab4f2",
   "metadata": {},
   "outputs": [
    {
     "name": "stderr",
     "output_type": "stream",
     "text": [
      "\r",
      "[Stage 3:===========>                                              (2 + 8) / 10]\r"
     ]
    },
    {
     "name": "stdout",
     "output_type": "stream",
     "text": [
      "+------------+-----+\n",
      "|PRSN_GNDR_ID|count|\n",
      "+------------+-----+\n",
      "|          NA|   19|\n",
      "|     UNKNOWN| 1212|\n",
      "|        MALE|96782|\n",
      "|      FEMALE|58941|\n",
      "+------------+-----+\n",
      "\n"
     ]
    },
    {
     "name": "stderr",
     "output_type": "stream",
     "text": [
      "\r",
      "                                                                                \r"
     ]
    }
   ],
   "source": [
    "# Gender wise crash count\n",
    "Primary_person_use_df.groupBy(col(\"PRSN_GNDR_ID\")).count().show()"
   ]
  },
  {
   "cell_type": "code",
   "execution_count": 7,
   "id": "b03ebcf7",
   "metadata": {},
   "outputs": [
    {
     "name": "stdout",
     "output_type": "stream",
     "text": [
      "Number of crashes in which person killed is Male: 96782\n"
     ]
    }
   ],
   "source": [
    "# Filtering the DF where gender is Male\n",
    "male_car_crash_df = Primary_person_use_df.filter(col(\"PRSN_GNDR_ID\") == \"MALE\")\n",
    "\n",
    "# Number of crashes in which person killed is Male\n",
    "print(f\"Number of crashes in which person killed is Male: {male_car_crash_df.count()}\")"
   ]
  },
  {
   "cell_type": "markdown",
   "id": "0ffc9f68",
   "metadata": {},
   "source": [
    "## Number of crashes in which person killed is Male: 96782"
   ]
  },
  {
   "cell_type": "code",
   "execution_count": null,
   "id": "2569ff53",
   "metadata": {},
   "outputs": [],
   "source": []
  },
  {
   "cell_type": "code",
   "execution_count": null,
   "id": "b9a74013",
   "metadata": {},
   "outputs": [],
   "source": []
  },
  {
   "cell_type": "code",
   "execution_count": null,
   "id": "b6989020",
   "metadata": {},
   "outputs": [],
   "source": []
  },
  {
   "cell_type": "markdown",
   "id": "84351900",
   "metadata": {},
   "source": [
    "# Analysis 2: How many two wheelers are booked for crashes? "
   ]
  },
  {
   "cell_type": "markdown",
   "id": "2bf73eb8",
   "metadata": {},
   "source": [
    "#### According to data dictionary - Units_use.csv has the vehicle type info - VEH_BODY_STYL_ID"
   ]
  },
  {
   "cell_type": "code",
   "execution_count": 8,
   "id": "6600bb74",
   "metadata": {},
   "outputs": [
    {
     "name": "stdout",
     "output_type": "stream",
     "text": [
      "root\n",
      " |-- CRASH_ID: integer (nullable = true)\n",
      " |-- UNIT_NBR: integer (nullable = true)\n",
      " |-- UNIT_DESC_ID: string (nullable = true)\n",
      " |-- VEH_PARKED_FL: string (nullable = true)\n",
      " |-- VEH_HNR_FL: string (nullable = true)\n",
      " |-- VEH_LIC_STATE_ID: string (nullable = true)\n",
      " |-- VIN: string (nullable = true)\n",
      " |-- VEH_MOD_YEAR: string (nullable = true)\n",
      " |-- VEH_COLOR_ID: string (nullable = true)\n",
      " |-- VEH_MAKE_ID: string (nullable = true)\n",
      " |-- VEH_MOD_ID: string (nullable = true)\n",
      " |-- VEH_BODY_STYL_ID: string (nullable = true)\n",
      " |-- EMER_RESPNDR_FL: string (nullable = true)\n",
      " |-- OWNR_ZIP: string (nullable = true)\n",
      " |-- FIN_RESP_PROOF_ID: string (nullable = true)\n",
      " |-- FIN_RESP_TYPE_ID: string (nullable = true)\n",
      " |-- VEH_DMAG_AREA_1_ID: string (nullable = true)\n",
      " |-- VEH_DMAG_SCL_1_ID: string (nullable = true)\n",
      " |-- FORCE_DIR_1_ID: string (nullable = true)\n",
      " |-- VEH_DMAG_AREA_2_ID: string (nullable = true)\n",
      " |-- VEH_DMAG_SCL_2_ID: string (nullable = true)\n",
      " |-- FORCE_DIR_2_ID: string (nullable = true)\n",
      " |-- VEH_INVENTORIED_FL: string (nullable = true)\n",
      " |-- VEH_TRANSP_NAME: string (nullable = true)\n",
      " |-- VEH_TRANSP_DEST: string (nullable = true)\n",
      " |-- CONTRIB_FACTR_1_ID: string (nullable = true)\n",
      " |-- CONTRIB_FACTR_2_ID: string (nullable = true)\n",
      " |-- CONTRIB_FACTR_P1_ID: string (nullable = true)\n",
      " |-- VEH_TRVL_DIR_ID: string (nullable = true)\n",
      " |-- FIRST_HARM_EVT_INV_ID: string (nullable = true)\n",
      " |-- INCAP_INJRY_CNT: integer (nullable = true)\n",
      " |-- NONINCAP_INJRY_CNT: integer (nullable = true)\n",
      " |-- POSS_INJRY_CNT: integer (nullable = true)\n",
      " |-- NON_INJRY_CNT: integer (nullable = true)\n",
      " |-- UNKN_INJRY_CNT: integer (nullable = true)\n",
      " |-- TOT_INJRY_CNT: integer (nullable = true)\n",
      " |-- DEATH_CNT: integer (nullable = true)\n",
      "\n"
     ]
    }
   ],
   "source": [
    "# Read the Units_use.csv\n",
    "Units_use_df = spark.read.csv(\"Data/Units_use.csv\", header=True, inferSchema=True)\n",
    "Units_use_df.cache()\n",
    "Units_use_df.head(5)\n",
    "Units_use_df.printSchema()"
   ]
  },
  {
   "cell_type": "code",
   "execution_count": 9,
   "id": "e56cf464",
   "metadata": {},
   "outputs": [
    {
     "name": "stdout",
     "output_type": "stream",
     "text": [
      "+---------------------------------+-----+\n",
      "|VEH_BODY_STYL_ID                 |count|\n",
      "+---------------------------------+-----+\n",
      "|BUS                              |463  |\n",
      "|NA                               |5743 |\n",
      "|VAN                              |5659 |\n",
      "|PICKUP                           |36799|\n",
      "|SPORT UTILITY VEHICLE            |33310|\n",
      "|PASSENGER CAR, 4-DOOR            |65559|\n",
      "|FIRE TRUCK                       |106  |\n",
      "|TRUCK                            |4534 |\n",
      "|UNKNOWN                          |1631 |\n",
      "|AMBULANCE                        |87   |\n",
      "|POLICE CAR/TRUCK                 |399  |\n",
      "|MOTORCYCLE                       |781  |\n",
      "|YELLOW SCHOOL BUS                |279  |\n",
      "|PASSENGER CAR, 2-DOOR            |11033|\n",
      "|TRUCK TRACTOR                    |6532 |\n",
      "|FARM EQUIPMENT                   |57   |\n",
      "|NEV-NEIGHBORHOOD ELECTRIC VEHICLE|6    |\n",
      "|OTHER  (EXPLAIN IN NARRATIVE)    |516  |\n",
      "|POLICE MOTORCYCLE                |3    |\n",
      "|NOT REPORTED                     |2    |\n",
      "+---------------------------------+-----+\n",
      "\n"
     ]
    }
   ],
   "source": [
    "# Vehicle type wise crash count\n",
    "Units_use_df.groupBy(col(\"VEH_BODY_STYL_ID\")).count().show(truncate=False)"
   ]
  },
  {
   "cell_type": "code",
   "execution_count": 10,
   "id": "2b3d257b",
   "metadata": {},
   "outputs": [
    {
     "name": "stdout",
     "output_type": "stream",
     "text": [
      "+-----------------------------+------+\n",
      "|UNIT_DESC_ID                 |count |\n",
      "+-----------------------------+------+\n",
      "|PEDESTRIAN                   |520   |\n",
      "|NON-CONTACT                  |302   |\n",
      "|TRAIN                        |46    |\n",
      "|MOTOR VEHICLE                |167456|\n",
      "|OTHER  (EXPLAIN IN NARRATIVE)|38    |\n",
      "|PEDALCYCLIST                 |164   |\n",
      "|TOWED/TRAILER                |4965  |\n",
      "|MOTORIZED CONVEYANCE         |8     |\n",
      "+-----------------------------+------+\n",
      "\n"
     ]
    }
   ],
   "source": [
    "distinct_unit_id = Units_use_df.groupBy(col(\"UNIT_DESC_ID\")).count()\n",
    "distinct_unit_id.show(truncate=False)"
   ]
  },
  {
   "cell_type": "code",
   "execution_count": 11,
   "id": "536b9260",
   "metadata": {},
   "outputs": [
    {
     "name": "stdout",
     "output_type": "stream",
     "text": [
      "Number of two wheelers booked for crashes: 948\n"
     ]
    }
   ],
   "source": [
    "# Filtering the DF where vehicle body type is Motorcycle (2 wheeler)\n",
    "two_wheeler_crash_df = Units_use_df.filter(\n",
    "    (col(\"VEH_BODY_STYL_ID\").like(\"%MOTORCYCLE%\") | (col(\"UNIT_DESC_ID\") == \"PEDALCYCLIST\")))\n",
    "\n",
    "\n",
    "\n",
    "# Number of two wheelers booked for crashes\n",
    "print(f\"Number of two wheelers booked for crashes: {two_wheeler_crash_df.count()}\")"
   ]
  },
  {
   "cell_type": "markdown",
   "id": "115b4c3d",
   "metadata": {},
   "source": [
    "## Number of two wheelers booked for crashes: 948"
   ]
  },
  {
   "cell_type": "code",
   "execution_count": null,
   "id": "95325028",
   "metadata": {},
   "outputs": [],
   "source": []
  },
  {
   "cell_type": "code",
   "execution_count": null,
   "id": "b021542d",
   "metadata": {},
   "outputs": [],
   "source": []
  },
  {
   "cell_type": "code",
   "execution_count": null,
   "id": "8f244e57",
   "metadata": {},
   "outputs": [],
   "source": []
  },
  {
   "cell_type": "markdown",
   "id": "2fc6e519",
   "metadata": {},
   "source": [
    "# Analysis 3: Which state has the highest number of accidents in which females are involved? "
   ]
  },
  {
   "cell_type": "markdown",
   "id": "2739f1ab",
   "metadata": {},
   "source": [
    "#### According to data dictionary - Primary_Person_use.csv has the Car crash info with gender and state details - PRSN_GNDR_ID, DRVR_LIC_STATE_ID\n",
    "\n",
    "#### We already have the DF available as Primary_Person_use_df"
   ]
  },
  {
   "cell_type": "code",
   "execution_count": 12,
   "id": "0bdc270a",
   "metadata": {},
   "outputs": [
    {
     "name": "stdout",
     "output_type": "stream",
     "text": [
      "+-----------------+-----+\n",
      "|DRVR_LIC_STATE_ID|count|\n",
      "+-----------------+-----+\n",
      "|            Texas|53319|\n",
      "+-----------------+-----+\n",
      "\n"
     ]
    }
   ],
   "source": [
    "accident_info_df = Primary_person_use_df.filter(col(\"PRSN_GNDR_ID\") == \"FEMALE\").groupBy(\n",
    "    col(\"DRVR_LIC_STATE_ID\")).count().orderBy(col(\"count\").desc())\n",
    "\n",
    "\n",
    "\n",
    "accident_info_df.limit(1).show()\n",
    "\n",
    "\n",
    "\n"
   ]
  },
  {
   "cell_type": "code",
   "execution_count": 13,
   "id": "8d344603",
   "metadata": {},
   "outputs": [
    {
     "name": "stdout",
     "output_type": "stream",
     "text": [
      "State with highest number of accidents in which females are involved: Texas\n"
     ]
    }
   ],
   "source": [
    "print(f\"State with highest number of accidents in which females are involved: {accident_info_df.first()['DRVR_LIC_STATE_ID']}\")\n",
    "\n"
   ]
  },
  {
   "cell_type": "markdown",
   "id": "501a9eb8",
   "metadata": {},
   "source": [
    "## State with highest no. of accidents in which females are involved: - \n",
    "### Texas, 53319 accidents"
   ]
  },
  {
   "cell_type": "code",
   "execution_count": null,
   "id": "93a49fb1",
   "metadata": {},
   "outputs": [],
   "source": []
  },
  {
   "cell_type": "code",
   "execution_count": null,
   "id": "1d83a353",
   "metadata": {},
   "outputs": [],
   "source": []
  },
  {
   "cell_type": "code",
   "execution_count": null,
   "id": "bdfb3685",
   "metadata": {},
   "outputs": [],
   "source": []
  },
  {
   "cell_type": "markdown",
   "id": "f3282079",
   "metadata": {},
   "source": [
    "# Analysis 4: Which are the Top 5th to 15th VEH_MAKE_IDs that contribute to a largest number of injuries including death"
   ]
  },
  {
   "cell_type": "markdown",
   "id": "306e03c8",
   "metadata": {},
   "source": [
    "#### According to data dictionary - Units_use.csv has the Car crash info with injury count, death and VEH_MAKE_ID info\n",
    "\n",
    "\n",
    "#### We already have the DF available as Units_use_df"
   ]
  },
  {
   "cell_type": "code",
   "execution_count": 14,
   "id": "de1a04dc",
   "metadata": {},
   "outputs": [
    {
     "name": "stdout",
     "output_type": "stream",
     "text": [
      "+--------+------------------+-------------+---------+------------+\n",
      "|CRASH_ID|       VEH_MAKE_ID|TOT_INJRY_CNT|DEATH_CNT|ALL_INJURIES|\n",
      "+--------+------------------+-------------+---------+------------+\n",
      "|15156583|NORTH AMERICAN BUS|           31|        0|          31|\n",
      "|15156583|NORTH AMERICAN BUS|           31|        0|          31|\n",
      "|14985400|NORTH AMERICAN BUS|           15|        0|          15|\n",
      "|14985400|NORTH AMERICAN BUS|           15|        0|          15|\n",
      "|14957289|         BLUE BIRD|           11|        0|          11|\n",
      "|14957289|         BLUE BIRD|           11|        0|          11|\n",
      "|15512740|NORTH AMERICAN BUS|           11|        0|          11|\n",
      "|15512740|NORTH AMERICAN BUS|           11|        0|          11|\n",
      "|15139734|           LINCOLN|           10|        0|          10|\n",
      "|15375528|          VAN HOOL|           10|        0|          10|\n",
      "+--------+------------------+-------------+---------+------------+\n",
      "only showing top 10 rows\n",
      "\n"
     ]
    }
   ],
   "source": [
    "injury_and_vehicle_info_df = Units_use_df.select(col(\"CRASH_ID\"), \n",
    "                                                 col(\"VEH_MAKE_ID\"),\n",
    "                                                col(\"TOT_INJRY_CNT\"),\n",
    "                                                col(\"DEATH_CNT\")).\\\n",
    "                                                withColumn(\"ALL_INJURIES\", Units_use_df[\"TOT_INJRY_CNT\"] + Units_use_df[\"DEATH_CNT\"]).\\\n",
    "                                                orderBy(col(\"ALL_INJURIES\").desc())\n",
    "\n",
    "injury_and_vehicle_info_df.show(10)\n",
    "                                                                                         \n",
    "                                                                                         \n",
    "                                                                                        "
   ]
  },
  {
   "cell_type": "code",
   "execution_count": 15,
   "id": "b8a141f3",
   "metadata": {},
   "outputs": [
    {
     "name": "stdout",
     "output_type": "stream",
     "text": [
      "+-----------+--------------+\n",
      "|VEH_MAKE_ID|total_injuries|\n",
      "+-----------+--------------+\n",
      "|  CHEVROLET|          7024|\n",
      "|       FORD|          6992|\n",
      "|     TOYOTA|          4228|\n",
      "|      DODGE|          3146|\n",
      "|     NISSAN|          3118|\n",
      "|      HONDA|          2892|\n",
      "|        GMC|          1256|\n",
      "|    HYUNDAI|          1103|\n",
      "|        KIA|          1049|\n",
      "|       JEEP|           989|\n",
      "|   CHRYSLER|           956|\n",
      "|      MAZDA|           711|\n",
      "| VOLKSWAGEN|           582|\n",
      "|    PONTIAC|           564|\n",
      "|      LEXUS|           523|\n",
      "+-----------+--------------+\n",
      "\n"
     ]
    }
   ],
   "source": [
    "vehicle_wise_injuries_df = injury_and_vehicle_info_df.filter(injury_and_vehicle_info_df[\"VEH_MAKE_ID\"] != \"NA\").\\\n",
    "                                     groupBy(\"VEH_MAKE_ID\").\\\n",
    "                                     sum(\"ALL_INJURIES\").\\\n",
    "                                     withColumnRenamed(\"sum(ALL_INJURIES)\", \"total_injuries\").\\\n",
    "                                     orderBy(col(\"total_injuries\").desc()).limit(15)\n",
    "vehicle_wise_injuries_df.show()\n",
    "\n",
    "\n"
   ]
  },
  {
   "cell_type": "code",
   "execution_count": 16,
   "id": "fb27a766",
   "metadata": {},
   "outputs": [
    {
     "data": {
      "text/plain": [
       "[Row(VEH_MAKE_ID='NISSAN', total_injuries=3118),\n",
       " Row(VEH_MAKE_ID='HONDA', total_injuries=2892),\n",
       " Row(VEH_MAKE_ID='GMC', total_injuries=1256),\n",
       " Row(VEH_MAKE_ID='HYUNDAI', total_injuries=1103),\n",
       " Row(VEH_MAKE_ID='KIA', total_injuries=1049),\n",
       " Row(VEH_MAKE_ID='JEEP', total_injuries=989),\n",
       " Row(VEH_MAKE_ID='CHRYSLER', total_injuries=956),\n",
       " Row(VEH_MAKE_ID='MAZDA', total_injuries=711),\n",
       " Row(VEH_MAKE_ID='VOLKSWAGEN', total_injuries=582),\n",
       " Row(VEH_MAKE_ID='PONTIAC', total_injuries=564),\n",
       " Row(VEH_MAKE_ID='LEXUS', total_injuries=523)]"
      ]
     },
     "execution_count": 16,
     "metadata": {},
     "output_type": "execute_result"
    }
   ],
   "source": [
    "# Filtering from 5 to 15 rows\n",
    "vehicle_wise_injuries_df_5_to_15 = vehicle_wise_injuries_df.tail(11)\n",
    "vehicle_wise_injuries_df_5_to_15\n"
   ]
  },
  {
   "cell_type": "code",
   "execution_count": 17,
   "id": "91363565",
   "metadata": {},
   "outputs": [
    {
     "name": "stdout",
     "output_type": "stream",
     "text": [
      "Vehicle number 5 -- NISSAN: 3118\n",
      "Vehicle number 6 -- HONDA: 2892\n",
      "Vehicle number 7 -- GMC: 1256\n",
      "Vehicle number 8 -- HYUNDAI: 1103\n",
      "Vehicle number 9 -- KIA: 1049\n",
      "Vehicle number 10 -- JEEP: 989\n",
      "Vehicle number 11 -- CHRYSLER: 956\n",
      "Vehicle number 12 -- MAZDA: 711\n",
      "Vehicle number 13 -- VOLKSWAGEN: 582\n",
      "Vehicle number 14 -- PONTIAC: 564\n",
      "Vehicle number 15 -- LEXUS: 523\n"
     ]
    }
   ],
   "source": [
    "count = 5\n",
    "for vehicle_info in vehicle_wise_injuries_df_5_to_15:\n",
    "    print(f\"Vehicle number {count} -- {vehicle_info[0]}: {vehicle_info[1]}\")\n",
    "    count += 1"
   ]
  },
  {
   "cell_type": "code",
   "execution_count": null,
   "id": "82dc7e82",
   "metadata": {},
   "outputs": [],
   "source": []
  },
  {
   "cell_type": "code",
   "execution_count": null,
   "id": "d551c9ae",
   "metadata": {},
   "outputs": [],
   "source": []
  },
  {
   "cell_type": "code",
   "execution_count": null,
   "id": "7f223ba1",
   "metadata": {},
   "outputs": [],
   "source": []
  },
  {
   "cell_type": "markdown",
   "id": "d72e2b80",
   "metadata": {},
   "source": [
    "# Analysis 5: For all the body styles involved in crashes, mention the top ethnic user group of each unique body style"
   ]
  },
  {
   "cell_type": "markdown",
   "id": "f3e84714",
   "metadata": {},
   "source": [
    "#### We have the vehicle body style info in Units_use.csv and ethnicity info in Primary_person_use.csv, \n",
    "#### we already have this info in Units_use_df and Primary_person_use_df"
   ]
  },
  {
   "cell_type": "code",
   "execution_count": 18,
   "id": "c0c20b55",
   "metadata": {},
   "outputs": [],
   "source": [
    "w = Window.partitionBy(\"VEH_BODY_STYL_ID\").orderBy(col(\"count\").desc())\n",
    "\n",
    "df = Units_use_df.join(Primary_person_use_df, Primary_person_use_df[\"CRASH_ID\"] == Units_use_df[\"CRASH_ID\"], how='inner'). \\\n",
    "    filter(~Units_use_df.VEH_BODY_STYL_ID.isin([\"NA\", \"UNKNOWN\", \"NOT REPORTED\",\n",
    "                                                 \"OTHER  (EXPLAIN IN NARRATIVE)\"])). \\\n",
    "    filter(~Primary_person_use_df.PRSN_ETHNICITY_ID.isin([\"NA\", \"UNKNOWN\"])). \\\n",
    "    groupby(\"VEH_BODY_STYL_ID\", \"PRSN_ETHNICITY_ID\").count(). \\\n",
    "    withColumn(\"row\", row_number().over(w)).filter(col(\"row\") == 1).drop(\"row\", \"count\")"
   ]
  },
  {
   "cell_type": "code",
   "execution_count": 19,
   "id": "11a34302",
   "metadata": {},
   "outputs": [
    {
     "name": "stdout",
     "output_type": "stream",
     "text": [
      "+---------------------+-----------------+\n",
      "|VEH_BODY_STYL_ID     |PRSN_ETHNICITY_ID|\n",
      "+---------------------+-----------------+\n",
      "|PASSENGER CAR, 4-DOOR|HISPANIC         |\n",
      "|PASSENGER CAR, 4-DOOR|BLACK            |\n",
      "|PASSENGER CAR, 4-DOOR|WHITE            |\n",
      "|TRUCK                |BLACK            |\n",
      "|TRUCK                |WHITE            |\n",
      "|TRUCK                |BLACK            |\n",
      "|TRUCK                |WHITE            |\n",
      "|NA                   |BLACK            |\n",
      "|NA                   |WHITE            |\n",
      "|PASSENGER CAR, 4-DOOR|BLACK            |\n",
      "+---------------------+-----------------+\n",
      "only showing top 10 rows\n",
      "\n"
     ]
    }
   ],
   "source": [
    "# We need to join units_use_df and Primary_person_use_df\n",
    "vehicle_and_ethnicity_info = Primary_person_use_df.join(Units_use_df, \n",
    "                                                        Primary_person_use_df[\"CRASH_ID\"] == Units_use_df[\"CRASH_ID\"],\n",
    "                                                        how=\"inner\").\\\n",
    "                             select(Units_use_df[\"VEH_BODY_STYL_ID\"], Primary_person_use_df[\"PRSN_ETHNICITY_ID\"])\n",
    "vehicle_and_ethnicity_info.show(10, truncate=False)"
   ]
  },
  {
   "cell_type": "code",
   "execution_count": 20,
   "id": "21b8dbb7",
   "metadata": {},
   "outputs": [
    {
     "data": {
      "text/plain": [
       "367420"
      ]
     },
     "execution_count": 20,
     "metadata": {},
     "output_type": "execute_result"
    }
   ],
   "source": [
    "vehicle_and_ethnicity_info.count()"
   ]
  },
  {
   "cell_type": "code",
   "execution_count": 21,
   "id": "c51db259",
   "metadata": {},
   "outputs": [
    {
     "name": "stdout",
     "output_type": "stream",
     "text": [
      "+---------------------+-----------------+\n",
      "|VEH_BODY_STYL_ID     |PRSN_ETHNICITY_ID|\n",
      "+---------------------+-----------------+\n",
      "|PASSENGER CAR, 4-DOOR|HISPANIC         |\n",
      "|PASSENGER CAR, 4-DOOR|BLACK            |\n",
      "|PASSENGER CAR, 4-DOOR|WHITE            |\n",
      "|TRUCK                |BLACK            |\n",
      "|TRUCK                |WHITE            |\n",
      "|TRUCK                |BLACK            |\n",
      "|TRUCK                |WHITE            |\n",
      "|PASSENGER CAR, 4-DOOR|BLACK            |\n",
      "|PASSENGER CAR, 4-DOOR|WHITE            |\n",
      "|SPORT UTILITY VEHICLE|BLACK            |\n",
      "+---------------------+-----------------+\n",
      "only showing top 10 rows\n",
      "\n"
     ]
    }
   ],
   "source": [
    "# Top ethnic user group of each unique body style\n",
    "windowSpec  = Window.partitionBy(\"VEH_BODY_STYL_ID\").orderBy(col(\"count\").desc())\n",
    "\n",
    "vehicle_and_ethnicity_df = vehicle_and_ethnicity_info.filter(\n",
    "    vehicle_and_ethnicity_info[\"VEH_BODY_STYL_ID\"].isin([\"NA\", \"UNKNOWN\", \"NOT REPORTED\",\n",
    "                                                         \"OTHER  (EXPLAIN IN NARRATIVE)\"]) == False). \\\n",
    "            filter(vehicle_and_ethnicity_info[\"PRSN_ETHNICITY_ID\"].isin([\"NA\", \"UNKNOWN\"]) == False)\n",
    "vehicle_and_ethnicity_df.show(10, truncate=False)"
   ]
  },
  {
   "cell_type": "code",
   "execution_count": 22,
   "id": "8257d24a",
   "metadata": {},
   "outputs": [
    {
     "name": "stdout",
     "output_type": "stream",
     "text": [
      "+--------------------+-----------------+\n",
      "|    VEH_BODY_STYL_ID|PRSN_ETHNICITY_ID|\n",
      "+--------------------+-----------------+\n",
      "|           AMBULANCE|            WHITE|\n",
      "|                 BUS|         HISPANIC|\n",
      "|      FARM EQUIPMENT|            WHITE|\n",
      "|          FIRE TRUCK|            WHITE|\n",
      "|          MOTORCYCLE|            WHITE|\n",
      "|NEV-NEIGHBORHOOD ...|            WHITE|\n",
      "|PASSENGER CAR, 2-...|            WHITE|\n",
      "|PASSENGER CAR, 4-...|            WHITE|\n",
      "|              PICKUP|            WHITE|\n",
      "|    POLICE CAR/TRUCK|            WHITE|\n",
      "+--------------------+-----------------+\n",
      "only showing top 10 rows\n",
      "\n"
     ]
    }
   ],
   "source": [
    "vehicle_and_ethnicity_df = vehicle_and_ethnicity_df.\\\n",
    "            groupby(\"VEH_BODY_STYL_ID\", \"PRSN_ETHNICITY_ID\").count().\\\n",
    "            withColumn(\"row_num\", row_number().over(windowSpec)).filter(col(\"row_num\") == 1)\n",
    "\n",
    "vehicle_and_ethnicity_df.select(col(\"VEH_BODY_STYL_ID\"), col(\"PRSN_ETHNICITY_ID\")).show(10)"
   ]
  },
  {
   "cell_type": "code",
   "execution_count": 23,
   "id": "18997868",
   "metadata": {},
   "outputs": [],
   "source": [
    "w = Window.partitionBy(\"VEH_BODY_STYL_ID\").orderBy(col(\"count\").desc())\n",
    "\n",
    "df = Units_use_df.join(Primary_person_use_df, Primary_person_use_df[\"CRASH_ID\"] == Units_use_df[\"CRASH_ID\"], how='inner'). \\\n",
    "    filter(~Units_use_df.VEH_BODY_STYL_ID.isin([\"NA\", \"UNKNOWN\", \"NOT REPORTED\",\n",
    "                                                 \"OTHER  (EXPLAIN IN NARRATIVE)\"])). \\\n",
    "    filter(~Primary_person_use_df.PRSN_ETHNICITY_ID.isin([\"NA\", \"UNKNOWN\"])). \\\n",
    "    groupby(\"VEH_BODY_STYL_ID\", \"PRSN_ETHNICITY_ID\").count(). \\\n",
    "    withColumn(\"row\", row_number().over(w)).filter(col(\"row\") == 1).drop(\"row\", \"count\")"
   ]
  },
  {
   "cell_type": "code",
   "execution_count": 24,
   "id": "3b4a6f19",
   "metadata": {},
   "outputs": [
    {
     "name": "stdout",
     "output_type": "stream",
     "text": [
      "+---------------------------------+-----------------+\n",
      "|VEH_BODY_STYL_ID                 |PRSN_ETHNICITY_ID|\n",
      "+---------------------------------+-----------------+\n",
      "|AMBULANCE                        |WHITE            |\n",
      "|BUS                              |HISPANIC         |\n",
      "|FARM EQUIPMENT                   |WHITE            |\n",
      "|FIRE TRUCK                       |WHITE            |\n",
      "|MOTORCYCLE                       |WHITE            |\n",
      "|NEV-NEIGHBORHOOD ELECTRIC VEHICLE|WHITE            |\n",
      "|PASSENGER CAR, 2-DOOR            |WHITE            |\n",
      "|PASSENGER CAR, 4-DOOR            |WHITE            |\n",
      "|PICKUP                           |WHITE            |\n",
      "|POLICE CAR/TRUCK                 |WHITE            |\n",
      "|POLICE MOTORCYCLE                |HISPANIC         |\n",
      "|SPORT UTILITY VEHICLE            |WHITE            |\n",
      "|TRUCK                            |WHITE            |\n",
      "|TRUCK TRACTOR                    |WHITE            |\n",
      "|VAN                              |WHITE            |\n",
      "|YELLOW SCHOOL BUS                |WHITE            |\n",
      "+---------------------------------+-----------------+\n",
      "\n"
     ]
    }
   ],
   "source": [
    "df.show(truncate=False)"
   ]
  },
  {
   "cell_type": "code",
   "execution_count": null,
   "id": "5bff450b",
   "metadata": {},
   "outputs": [],
   "source": []
  },
  {
   "cell_type": "code",
   "execution_count": null,
   "id": "40f51029",
   "metadata": {},
   "outputs": [],
   "source": []
  },
  {
   "cell_type": "code",
   "execution_count": null,
   "id": "becdae15",
   "metadata": {},
   "outputs": [],
   "source": []
  },
  {
   "cell_type": "markdown",
   "id": "132e18f1",
   "metadata": {},
   "source": [
    "# Analysis 6: Among the crashed cars, what are the Top 5 Zip Codes with highest number crashes with alcohols as the contributing factor to a crash (Use Driver Zip Code)"
   ]
  },
  {
   "cell_type": "markdown",
   "id": "8efcf054",
   "metadata": {},
   "source": [
    "#### According to data dictionary - Primary_person_use.csv has the Car crash info with driver zip code and alcohol result - DRVR_ZIP and PRSN_ALC_RSLT_ID, contributing factors are available in Units_use.csv\n",
    "#### We already have the DFs available as Primary_person_use_df and Units_use_df"
   ]
  },
  {
   "cell_type": "code",
   "execution_count": 25,
   "id": "cc8de6cf",
   "metadata": {},
   "outputs": [
    {
     "name": "stdout",
     "output_type": "stream",
     "text": [
      "+--------+-----+\n",
      "|DRVR_ZIP|count|\n",
      "+--------+-----+\n",
      "|   78521|  144|\n",
      "|   76010|  131|\n",
      "|   79936|   91|\n",
      "|   79938|   82|\n",
      "|   78753|   81|\n",
      "+--------+-----+\n",
      "\n"
     ]
    }
   ],
   "source": [
    "crashes_due_to_alcohol_df = Units_use_df.join(Primary_person_use_df, Units_use_df[\"CRASH_ID\"] == Primary_person_use_df[\"CRASH_ID\"], how='inner') \\\n",
    "            .dropna(subset=[\"DRVR_ZIP\"])\\\n",
    "            .filter(col(\"CONTRIB_FACTR_1_ID\").like(\"%ALCOHOL%\") | col(\"CONTRIB_FACTR_2_ID\").like(\"%ALCOHOL%\")\n",
    "                  | (col(\"PRSN_ALC_RSLT_ID\") == \"Positive\")) \\\n",
    "            .groupby(\"DRVR_ZIP\").count().orderBy(col(\"count\").desc()).limit(5)\n",
    "crashes_due_to_alcohol_df.show()"
   ]
  },
  {
   "cell_type": "code",
   "execution_count": null,
   "id": "661f22be",
   "metadata": {},
   "outputs": [],
   "source": []
  },
  {
   "cell_type": "code",
   "execution_count": null,
   "id": "5ffbb7a9",
   "metadata": {},
   "outputs": [],
   "source": []
  },
  {
   "cell_type": "code",
   "execution_count": null,
   "id": "23c584ac",
   "metadata": {},
   "outputs": [],
   "source": []
  },
  {
   "cell_type": "markdown",
   "id": "ddc5e93c",
   "metadata": {},
   "source": [
    "# Analysis 7: Count of Distinct Crash IDs where No Damaged Property was observed and Damage Level (VEH_DMAG_SCL~) is above 4 and car avails Insurance"
   ]
  },
  {
   "cell_type": "markdown",
   "id": "16ac2ca7",
   "metadata": {},
   "source": [
    "#### According to data dictionary - Damages_use.csv has the Car crash info with damages, Units_use.csv has info regarding Damage level - VEH_DMAG_SCL, Insurance\n",
    "#### We already have the DFs available as Primary_person_use_df and Units_use_df"
   ]
  },
  {
   "cell_type": "code",
   "execution_count": 26,
   "id": "729855a1",
   "metadata": {},
   "outputs": [
    {
     "name": "stdout",
     "output_type": "stream",
     "text": [
      "root\n",
      " |-- CRASH_ID: integer (nullable = true)\n",
      " |-- DAMAGED_PROPERTY: string (nullable = true)\n",
      "\n"
     ]
    }
   ],
   "source": [
    "# Read the Primary_Person_use.csv\n",
    "Damages_use_df = spark.read.csv(\"Data/Damages_use.csv\", header=True, inferSchema=True)\n",
    "Damages_use_df.cache()\n",
    "Damages_use_df.head(5)\n",
    "Damages_use_df.printSchema()"
   ]
  },
  {
   "cell_type": "code",
   "execution_count": 27,
   "id": "e6ed0377",
   "metadata": {},
   "outputs": [
    {
     "name": "stdout",
     "output_type": "stream",
     "text": [
      "+--------+---------------------------------+\n",
      "|CRASH_ID|DAMAGED_PROPERTY                 |\n",
      "+--------+---------------------------------+\n",
      "|14768622|YARD, GRASS                      |\n",
      "|14768622|MAILBOX                          |\n",
      "|14838668|GUARDRAIL                        |\n",
      "|14838685|ROAD SIGN                        |\n",
      "|14838693|2009 MAZDA 3                     |\n",
      "|14838834|CHAIN LINK FENCE                 |\n",
      "|14838834|CHAIN LINK FENCE                 |\n",
      "|14838834|CHAIN LINK FENCE                 |\n",
      "|14838834|CHAIN LINK FENCE                 |\n",
      "|14838841|WOODED POLE ON SOUTH SIDE OF LOOP|\n",
      "+--------+---------------------------------+\n",
      "only showing top 10 rows\n",
      "\n"
     ]
    }
   ],
   "source": [
    "damage_insurance_info = Damages_use_df.join(Units_use_df, on=[\"CRASH_ID\"], how='inner')\n",
    "damage_insurance_info.select(col(\"CRASH_ID\"), col(\"DAMAGED_PROPERTY\")).show(10, truncate=False)\n"
   ]
  },
  {
   "cell_type": "code",
   "execution_count": 28,
   "id": "86616f7b",
   "metadata": {},
   "outputs": [
    {
     "name": "stdout",
     "output_type": "stream",
     "text": [
      "+-----------------+-----+\n",
      "|VEH_DMAG_SCL_1_ID|count|\n",
      "+-----------------+-----+\n",
      "|        DAMAGED 4| 6142|\n",
      "|               NA| 2420|\n",
      "|        DAMAGED 5| 3590|\n",
      "|DAMAGED 1 MINIMUM| 4731|\n",
      "|        DAMAGED 3| 9375|\n",
      "|        NO DAMAGE|  560|\n",
      "|DAMAGED 7 HIGHEST| 1410|\n",
      "|        DAMAGED 2| 7539|\n",
      "|        DAMAGED 6| 1577|\n",
      "+-----------------+-----+\n",
      "\n"
     ]
    }
   ],
   "source": [
    "# Unique damage types\n",
    "damage_insurance_info.groupBy(\"VEH_DMAG_SCL_1_ID\").count().show()"
   ]
  },
  {
   "cell_type": "code",
   "execution_count": 29,
   "id": "e1ba3cc7",
   "metadata": {},
   "outputs": [
    {
     "name": "stdout",
     "output_type": "stream",
     "text": [
      "+-----------------+-----+\n",
      "|VEH_DMAG_SCL_2_ID|count|\n",
      "+-----------------+-----+\n",
      "|        DAMAGED 4| 1642|\n",
      "|               NA|23922|\n",
      "|        DAMAGED 5|  901|\n",
      "|DAMAGED 1 MINIMUM| 2444|\n",
      "|        DAMAGED 3| 3132|\n",
      "|        NO DAMAGE|  679|\n",
      "|DAMAGED 7 HIGHEST|  498|\n",
      "|        DAMAGED 2| 3679|\n",
      "|        DAMAGED 6|  447|\n",
      "+-----------------+-----+\n",
      "\n"
     ]
    }
   ],
   "source": [
    "# Unique damage types\n",
    "damage_insurance_info.groupBy(\"VEH_DMAG_SCL_2_ID\").count().show()"
   ]
  },
  {
   "cell_type": "code",
   "execution_count": 30,
   "id": "de5de959",
   "metadata": {},
   "outputs": [
    {
     "name": "stdout",
     "output_type": "stream",
     "text": [
      "+----------------------------------------+-----+\n",
      "|FIN_RESP_TYPE_ID                        |count|\n",
      "+----------------------------------------+-----+\n",
      "|INSURANCE BINDER                        |58   |\n",
      "|LIABILITY INSURANCE POLICY              |6098 |\n",
      "|NA                                      |7128 |\n",
      "|CERTIFICATE OF SELF-INSURANCE           |224  |\n",
      "|CERTIFICATE OF DEPOSIT WITH COMPTROLLER |6    |\n",
      "|PROOF OF LIABILITY INSURANCE            |23822|\n",
      "|SURETY BOND                             |7    |\n",
      "|CERTIFICATE OF DEPOSIT WITH COUNTY JUDGE|1    |\n",
      "+----------------------------------------+-----+\n",
      "\n"
     ]
    }
   ],
   "source": [
    "# Unique damage types\n",
    "damage_insurance_info.groupBy(\"FIN_RESP_TYPE_ID\").count().show(truncate=False)"
   ]
  },
  {
   "cell_type": "code",
   "execution_count": 31,
   "id": "9369e1d0",
   "metadata": {},
   "outputs": [
    {
     "name": "stdout",
     "output_type": "stream",
     "text": [
      "+----------------------------------+-----+\n",
      "|DAMAGED_PROPERTY                  |count|\n",
      "+----------------------------------+-----+\n",
      "|NO DAMAGES TO THE CITY POLE 214385|1    |\n",
      "|NONE                              |209  |\n",
      "|NONE1                             |2    |\n",
      "|NO DAMAGE, SIGNAL LIGHT POLE      |2    |\n",
      "|NO DAMAGE TO BARRICADE            |1    |\n",
      "|NO DAMAGE TO FENCE                |1    |\n",
      "+----------------------------------+-----+\n",
      "\n"
     ]
    }
   ],
   "source": [
    "# Unique damage types\n",
    "damage_insurance_info.filter(\n",
    "    (col(\"DAMAGED_PROPERTY\").like(\"NO DAMAGE%\")) | (col(\"DAMAGED_PROPERTY\").like(\"NONE%\"))\n",
    ") \\\n",
    "    .groupBy(\"DAMAGED_PROPERTY\").count().show(1000, truncate=False)\n",
    "\n",
    "\n"
   ]
  },
  {
   "cell_type": "code",
   "execution_count": 32,
   "id": "a9440f1d",
   "metadata": {},
   "outputs": [
    {
     "data": {
      "text/plain": [
       "37344"
      ]
     },
     "execution_count": 32,
     "metadata": {},
     "output_type": "execute_result"
    }
   ],
   "source": [
    "damage_insurance_info.count()"
   ]
  },
  {
   "cell_type": "code",
   "execution_count": 33,
   "id": "21e82aba",
   "metadata": {},
   "outputs": [],
   "source": [
    "# FILTERING:  No Damaged Property was observed and Damage Level (VEH_DMAG_SCL~) is above 4 and car avails Insurance\n",
    "no_damage_insurace_availed_df = damage_insurance_info. \\\n",
    "    filter(\n",
    "            ((col(\"VEH_DMAG_SCL_1_ID\") > \"DAMAGED 4\") & (col(\"VEH_DMAG_SCL_1_ID\").isin([\"NA\", \"NO DAMAGE\"]) == False)) \n",
    "                                           | \n",
    "            ((col(\"VEH_DMAG_SCL_2_ID\") > \"DAMAGED 4\") & (col(\"VEH_DMAG_SCL_2_ID\").isin([\"NA\", \"NO DAMAGE\"]) == False))\n",
    "          ) \\\n",
    "    .filter((col(\"DAMAGED_PROPERTY\") == \"NONE\") | (col(\"DAMAGED_PROPERTY\").like(\"NO DAMAGE%\"))) \\\n",
    "    .filter(col(\"FIN_RESP_TYPE_ID\").like(\"%LIABILITY INSURANCE POLICY%\"))"
   ]
  },
  {
   "cell_type": "code",
   "execution_count": 34,
   "id": "94b436bc",
   "metadata": {},
   "outputs": [
    {
     "name": "stdout",
     "output_type": "stream",
     "text": [
      "+--------+-----------------+-----------------+--------------------------+----------------+\n",
      "|CRASH_ID|VEH_DMAG_SCL_1_ID|VEH_DMAG_SCL_2_ID|FIN_RESP_TYPE_ID          |DAMAGED_PROPERTY|\n",
      "+--------+-----------------+-----------------+--------------------------+----------------+\n",
      "|14870169|DAMAGED 7 HIGHEST|NA               |LIABILITY INSURANCE POLICY|NONE            |\n",
      "|14885395|DAMAGED 6        |NA               |LIABILITY INSURANCE POLICY|NONE            |\n",
      "|14885395|DAMAGED 6        |NA               |LIABILITY INSURANCE POLICY|NONE            |\n",
      "|15255328|DAMAGED 5        |NA               |LIABILITY INSURANCE POLICY|NONE            |\n",
      "+--------+-----------------+-----------------+--------------------------+----------------+\n",
      "\n"
     ]
    }
   ],
   "source": [
    "no_damage_insurace_availed_df.select(col(\"CRASH_ID\"), col(\"VEH_DMAG_SCL_1_ID\"), col(\"VEH_DMAG_SCL_2_ID\"), \n",
    "                                    col(\"FIN_RESP_TYPE_ID\"), col(\"DAMAGED_PROPERTY\")).show(truncate=False)"
   ]
  },
  {
   "cell_type": "code",
   "execution_count": 35,
   "id": "ea398af4",
   "metadata": {},
   "outputs": [
    {
     "name": "stdout",
     "output_type": "stream",
     "text": [
      "Total number of Distinct Crash IDs where No Damaged Property was observed and Damage Level is above 4 and car avails Insurance: 4\n"
     ]
    }
   ],
   "source": [
    "print(f\"Total number of Distinct Crash IDs where No Damaged Property was observed and Damage Level is above 4 and car avails Insurance: {no_damage_insurace_availed_df.count()}\")"
   ]
  },
  {
   "cell_type": "code",
   "execution_count": null,
   "id": "46093a69",
   "metadata": {},
   "outputs": [],
   "source": []
  },
  {
   "cell_type": "code",
   "execution_count": null,
   "id": "bc35074e",
   "metadata": {},
   "outputs": [],
   "source": []
  },
  {
   "cell_type": "code",
   "execution_count": null,
   "id": "21eb154d",
   "metadata": {},
   "outputs": [],
   "source": []
  },
  {
   "cell_type": "markdown",
   "id": "12084913",
   "metadata": {},
   "source": [
    "# Analysis 8: Determine the Top 5 Vehicle Makes where drivers are charged with speeding related offences, has licensed Drivers, uses top 10 used vehicle colours and has car licensed with the Top 25 states with highest number of offences (to be deduced from the data)"
   ]
  },
  {
   "cell_type": "markdown",
   "id": "a81035ce",
   "metadata": {},
   "source": [
    "#### According to data dictionary, we have the Vehicle info in Units_use.csv, Driver details in primary_peron_use.cs\n",
    "#### We already have the DFs available as Primary_person_use_df and Units_use_df"
   ]
  },
  {
   "cell_type": "code",
   "execution_count": 36,
   "id": "74b8a1b8",
   "metadata": {},
   "outputs": [
    {
     "name": "stdout",
     "output_type": "stream",
     "text": [
      "+------------+-----+\n",
      "|VEH_COLOR_ID|count|\n",
      "+------------+-----+\n",
      "|         WHI|38354|\n",
      "|         BLK|27749|\n",
      "|         SIL|20777|\n",
      "|         GRY|18174|\n",
      "|         BLU|15471|\n",
      "|         RED|14095|\n",
      "|         GRN| 6767|\n",
      "|          NA| 6193|\n",
      "|         MAR| 6010|\n",
      "|         TAN| 4846|\n",
      "+------------+-----+\n",
      "\n"
     ]
    }
   ],
   "source": [
    "# Top 10 used vehicle colors\n",
    "vehicle_colors_df = Units_use_df.groupby(col(\"VEH_COLOR_ID\")).count().orderBy(col(\"count\").desc())\n",
    "\n",
    "# top 10\n",
    "top_ten_vehicle_colors = vehicle_colors_df.limit(10)\n",
    "top_ten_vehicle_colors.show()"
   ]
  },
  {
   "cell_type": "code",
   "execution_count": 37,
   "id": "3731d28a",
   "metadata": {},
   "outputs": [
    {
     "name": "stdout",
     "output_type": "stream",
     "text": [
      "+------------+-----+\n",
      "|VEH_COLOR_ID|count|\n",
      "+------------+-----+\n",
      "|         WHI|38354|\n",
      "|         BLK|27749|\n",
      "|         SIL|20777|\n",
      "|         GRY|18174|\n",
      "|         BLU|15471|\n",
      "|         RED|14095|\n",
      "|         GRN| 6767|\n",
      "|         MAR| 6010|\n",
      "|         TAN| 4846|\n",
      "|         GLD| 4062|\n",
      "+------------+-----+\n",
      "\n"
     ]
    }
   ],
   "source": [
    "# Filtering null values from top_ten_vehicle_colors\n",
    "vehicle_colors_df = vehicle_colors_df.filter((col(\"VEH_COLOR_ID\") == \"NA\") == False)\n",
    "top_ten_vehicle_colors = vehicle_colors_df.limit(10)\n",
    "top_ten_vehicle_colors.show()"
   ]
  },
  {
   "cell_type": "code",
   "execution_count": 38,
   "id": "7ec4ca20",
   "metadata": {},
   "outputs": [
    {
     "name": "stdout",
     "output_type": "stream",
     "text": [
      "+----------------+------+\n",
      "|VEH_LIC_STATE_ID| count|\n",
      "+----------------+------+\n",
      "|              TX|156997|\n",
      "|              NA|  6065|\n",
      "|              UN|  1791|\n",
      "|              OK|   970|\n",
      "|              LA|   782|\n",
      "|              NM|   731|\n",
      "|              IN|   544|\n",
      "|              MX|   493|\n",
      "|              CA|   482|\n",
      "|              FL|   416|\n",
      "|              IL|   370|\n",
      "|              AR|   350|\n",
      "|              TN|   304|\n",
      "|              MS|   244|\n",
      "|              AZ|   236|\n",
      "|              KS|   186|\n",
      "|              GA|   177|\n",
      "|              MO|   177|\n",
      "|              CO|   175|\n",
      "|              NC|   159|\n",
      "|              AL|   145|\n",
      "|              OH|   127|\n",
      "|              MI|   122|\n",
      "|              MN|   113|\n",
      "|              98|   109|\n",
      "+----------------+------+\n",
      "only showing top 25 rows\n",
      "\n"
     ]
    }
   ],
   "source": [
    "# Top 25 states \n",
    "vehicle_state_df = Units_use_df.groupBy(col(\"VEH_LIC_STATE_ID\")).count().orderBy(col(\"count\").desc())\n",
    "vehicle_state_df.show(25)\n"
   ]
  },
  {
   "cell_type": "code",
   "execution_count": 39,
   "id": "9a15119a",
   "metadata": {},
   "outputs": [
    {
     "data": {
      "text/plain": [
       "[('VEH_LIC_STATE_ID', 'string'), ('count', 'bigint')]"
      ]
     },
     "execution_count": 39,
     "metadata": {},
     "output_type": "execute_result"
    }
   ],
   "source": [
    "\n",
    "vehicle_state_df.dtypes"
   ]
  },
  {
   "cell_type": "code",
   "execution_count": 40,
   "id": "2afd29e8",
   "metadata": {},
   "outputs": [
    {
     "name": "stdout",
     "output_type": "stream",
     "text": [
      "+----------------+-----+\n",
      "|VEH_LIC_STATE_ID|count|\n",
      "+----------------+-----+\n",
      "|              98|  109|\n",
      "+----------------+-----+\n",
      "\n"
     ]
    }
   ],
   "source": [
    "# Filter 98 and other such bad records in vehicle_state_df\n",
    "vehicle_state_df.filter(col(\"VEH_LIC_STATE_ID\").cast(\"int\").isNotNull()).show(25)"
   ]
  },
  {
   "cell_type": "code",
   "execution_count": 41,
   "id": "93dd3b82",
   "metadata": {},
   "outputs": [
    {
     "name": "stdout",
     "output_type": "stream",
     "text": [
      "+----------------+------+\n",
      "|VEH_LIC_STATE_ID| count|\n",
      "+----------------+------+\n",
      "|              TX|156997|\n",
      "|              NA|  6065|\n",
      "|              UN|  1791|\n",
      "|              OK|   970|\n",
      "|              LA|   782|\n",
      "|              NM|   731|\n",
      "|              IN|   544|\n",
      "|              MX|   493|\n",
      "|              CA|   482|\n",
      "|              FL|   416|\n",
      "|              IL|   370|\n",
      "|              AR|   350|\n",
      "|              TN|   304|\n",
      "|              MS|   244|\n",
      "|              AZ|   236|\n",
      "|              KS|   186|\n",
      "|              MO|   177|\n",
      "|              GA|   177|\n",
      "|              CO|   175|\n",
      "|              NC|   159|\n",
      "|              AL|   145|\n",
      "|              OH|   127|\n",
      "|              MI|   122|\n",
      "|              MN|   113|\n",
      "|              WI|   101|\n",
      "+----------------+------+\n",
      "only showing top 25 rows\n",
      "\n"
     ]
    }
   ],
   "source": [
    "# We only need Vehicle state ID \n",
    "vehicle_state_df.filter(col(\"VEH_LIC_STATE_ID\").cast(\"int\").isNull()).show(25)"
   ]
  },
  {
   "cell_type": "code",
   "execution_count": 42,
   "id": "04cc4edc",
   "metadata": {},
   "outputs": [
    {
     "name": "stdout",
     "output_type": "stream",
     "text": [
      "root\n",
      " |-- CRASH_ID: integer (nullable = true)\n",
      " |-- UNIT_NBR: integer (nullable = true)\n",
      " |-- PRSN_NBR: integer (nullable = true)\n",
      " |-- CHARGE: string (nullable = true)\n",
      " |-- CITATION_NBR: string (nullable = true)\n",
      "\n"
     ]
    }
   ],
   "source": [
    "# Speeding related offenses are present in Charges_use.csv\n",
    "\n",
    "# Read the Charges_use.csv\n",
    "Charges_use_df = spark.read.csv(\"Data/Charges_use.csv\", header=True, inferSchema=True)\n",
    "Charges_use_df.cache()\n",
    "Charges_use_df.head(5)\n",
    "Charges_use_df.printSchema()"
   ]
  },
  {
   "cell_type": "code",
   "execution_count": 43,
   "id": "0b7051ac",
   "metadata": {},
   "outputs": [
    {
     "name": "stdout",
     "output_type": "stream",
     "text": [
      "+--------+--------+--------+--------------------------------+------------+\n",
      "|CRASH_ID|UNIT_NBR|PRSN_NBR|CHARGE                          |CITATION_NBR|\n",
      "+--------+--------+--------+--------------------------------+------------+\n",
      "|14838834|1       |1       |FAIL TO CONTROL SPEED           |10019200    |\n",
      "|14838972|2       |1       |FAIL TO CONTROL SPEED           |E010515     |\n",
      "|14838977|1       |1       |UNSAFE SPEED                    |TS00132638  |\n",
      "|14839233|1       |1       |UNSAFE SPEED                    |TX4IAC0VAP35|\n",
      "|14839240|1       |1       |FAILED TO CONTROL SPEED ACCIDENT|138958691   |\n",
      "|14839272|1       |1       |FAIL TO CONTROL SPEED           |AT10352542  |\n",
      "|14839342|1       |1       |FAILED TO CONTROL SPEED         |E0021752    |\n",
      "|14839404|1       |1       |FAILED TO CONTROL SPEED         |138474077   |\n",
      "|14839510|1       |1       |FAIL TO CONTROL SPEED           |10330959    |\n",
      "|14839519|1       |1       |UNSAFE SPEED                    |TX4IC50PTGSW|\n",
      "+--------+--------+--------+--------------------------------+------------+\n",
      "only showing top 10 rows\n",
      "\n"
     ]
    }
   ],
   "source": [
    "speeding_related_offenses_df = Charges_use_df.filter(col(\"CHARGE\").like(\"%SPEED%\"))\n",
    "speeding_related_offenses_df.show(10, truncate=False)"
   ]
  },
  {
   "cell_type": "code",
   "execution_count": 44,
   "id": "2266c2c7",
   "metadata": {},
   "outputs": [
    {
     "name": "stdout",
     "output_type": "stream",
     "text": [
      "+----------------------+------+\n",
      "|DRVR_LIC_TYPE_ID      |count |\n",
      "+----------------------+------+\n",
      "|NA                    |866   |\n",
      "|COMMERCIAL DRIVER LIC.|7204  |\n",
      "|ID CARD               |11924 |\n",
      "|UNKNOWN               |2268  |\n",
      "|OCCUPATIONAL          |124   |\n",
      "|UNLICENSED            |8988  |\n",
      "|OTHER                 |354   |\n",
      "|DRIVER LICENSE        |125226|\n",
      "+----------------------+------+\n",
      "\n"
     ]
    }
   ],
   "source": [
    "# Drivers info\n",
    "drivers_ID_info_df = Primary_person_use_df.groupBy(col(\"DRVR_LIC_TYPE_ID\")).count()\n",
    "drivers_ID_info_df.show(truncate=False)"
   ]
  },
  {
   "cell_type": "code",
   "execution_count": 45,
   "id": "36dfcf9b",
   "metadata": {},
   "outputs": [],
   "source": [
    "# Drivers with license\n",
    "drivers_with_license_df = Primary_person_use_df.filter(col(\"DRVR_LIC_TYPE_ID\").isin([\"DRIVER LICENSE\", \"COMMERCIAL DRIVER LIC.\"]))\n",
    "# drivers_with_license_df.show(10)"
   ]
  },
  {
   "cell_type": "code",
   "execution_count": 46,
   "id": "3d44fb7a",
   "metadata": {},
   "outputs": [
    {
     "data": {
      "text/plain": [
       "['CRASH_ID', 'UNIT_NBR', 'PRSN_NBR', 'CHARGE', 'CITATION_NBR']"
      ]
     },
     "execution_count": 46,
     "metadata": {},
     "output_type": "execute_result"
    }
   ],
   "source": [
    "speeding_related_offenses_df.columns"
   ]
  },
  {
   "cell_type": "code",
   "execution_count": 47,
   "id": "fafc0b5b",
   "metadata": {},
   "outputs": [
    {
     "data": {
      "text/plain": [
       "['CRASH_ID',\n",
       " 'UNIT_NBR',\n",
       " 'PRSN_NBR',\n",
       " 'PRSN_TYPE_ID',\n",
       " 'PRSN_OCCPNT_POS_ID',\n",
       " 'PRSN_INJRY_SEV_ID',\n",
       " 'PRSN_AGE',\n",
       " 'PRSN_ETHNICITY_ID',\n",
       " 'PRSN_GNDR_ID',\n",
       " 'PRSN_EJCT_ID',\n",
       " 'PRSN_REST_ID',\n",
       " 'PRSN_AIRBAG_ID',\n",
       " 'PRSN_HELMET_ID',\n",
       " 'PRSN_SOL_FL',\n",
       " 'PRSN_ALC_SPEC_TYPE_ID',\n",
       " 'PRSN_ALC_RSLT_ID',\n",
       " 'PRSN_BAC_TEST_RSLT',\n",
       " 'PRSN_DRG_SPEC_TYPE_ID',\n",
       " 'PRSN_DRG_RSLT_ID',\n",
       " 'DRVR_DRG_CAT_1_ID',\n",
       " 'PRSN_DEATH_TIME',\n",
       " 'INCAP_INJRY_CNT',\n",
       " 'NONINCAP_INJRY_CNT',\n",
       " 'POSS_INJRY_CNT',\n",
       " 'NON_INJRY_CNT',\n",
       " 'UNKN_INJRY_CNT',\n",
       " 'TOT_INJRY_CNT',\n",
       " 'DEATH_CNT',\n",
       " 'DRVR_LIC_TYPE_ID',\n",
       " 'DRVR_LIC_STATE_ID',\n",
       " 'DRVR_LIC_CLS_ID',\n",
       " 'DRVR_ZIP']"
      ]
     },
     "execution_count": 47,
     "metadata": {},
     "output_type": "execute_result"
    }
   ],
   "source": [
    "drivers_with_license_df.columns"
   ]
  },
  {
   "cell_type": "code",
   "execution_count": 48,
   "id": "d7219891",
   "metadata": {},
   "outputs": [
    {
     "name": "stdout",
     "output_type": "stream",
     "text": [
      "+-----------+-----+\n",
      "|VEH_MAKE_ID|count|\n",
      "+-----------+-----+\n",
      "|       FORD|20396|\n",
      "|  CHEVROLET|18228|\n",
      "|     TOYOTA|12524|\n",
      "|      DODGE| 8474|\n",
      "|     NISSAN| 7720|\n",
      "+-----------+-----+\n",
      "\n"
     ]
    }
   ],
   "source": [
    "# Top 5 Vehicle Makes where drivers are charged with speeding related offences, \n",
    "# has licensed Drivers\n",
    "\n",
    "final_df_with_vehicle_make_info_df = drivers_with_license_df.join(speeding_related_offenses_df, on=[\"CRASH_ID\"]). \\\n",
    "                                    join(Units_use_df, on=[\"CRASH_ID\"]).groupby(\"VEH_MAKE_ID\").count(). \\\n",
    "                                    orderBy(col(\"count\").desc()).limit(5) \n",
    "                                    \n",
    "\n",
    "\n",
    "final_df_with_vehicle_make_info_df.show()"
   ]
  },
  {
   "cell_type": "code",
   "execution_count": 49,
   "id": "649995fa",
   "metadata": {},
   "outputs": [
    {
     "name": "stdout",
     "output_type": "stream",
     "text": [
      "['TX', 'NA', 'UN', 'OK', 'LA', 'NM', 'IN', 'MX', 'CA', 'FL', 'IL', 'AR', 'TN', 'MS', 'AZ', 'KS', 'MO', 'GA', 'CO', 'NC', 'AL', 'OH', 'MI', 'MN', '98', 'WI', 'VA', 'NE', 'WA', 'IA', 'UT', 'OR', 'PA', 'SC', 'CD', 'NY', 'KY', 'NV', 'MD', 'NJ', 'MT', 'ID', 'ND', 'CT', 'SD', 'WY', 'AK', 'MA', 'WV', 'AS', 'NH', 'ME', 'US', 'RI', 'VT', 'HI', 'DE', 'DS', 'DC']\n",
      "['WHI', 'BLK', 'SIL', 'GRY', 'BLU', 'RED', 'GRN', 'MAR', 'TAN', 'GLD']\n"
     ]
    }
   ],
   "source": [
    "# uses top 10 used vehicle colours and has car licensed \n",
    "# with the Top 25 states with highest number of offences\n",
    "\n",
    "# Top 25 states\n",
    "top_25_states = vehicle_state_df.collect()\n",
    "top_25_states_list = [state_info[0] for state_info in top_25_states]\n",
    "print(top_25_states_list)\n",
    "\n",
    "\n",
    "# Top 10 colors\n",
    "top_10_colors = top_ten_vehicle_colors.collect()\n",
    "top_10_colors_list = [color_info[0] for color_info in top_10_colors]\n",
    "print(top_10_colors_list)"
   ]
  },
  {
   "cell_type": "code",
   "execution_count": 51,
   "id": "97981c26",
   "metadata": {},
   "outputs": [
    {
     "name": "stdout",
     "output_type": "stream",
     "text": [
      "+-----------+-----+\n",
      "|VEH_MAKE_ID|count|\n",
      "+-----------+-----+\n",
      "|       FORD|19321|\n",
      "|  CHEVROLET|16959|\n",
      "|     TOYOTA|11889|\n",
      "|      DODGE| 7980|\n",
      "|     NISSAN| 7358|\n",
      "+-----------+-----+\n",
      "\n"
     ]
    }
   ],
   "source": [
    "# Top 5 Vehicle Makes where drivers are charged with speeding related offences, \n",
    "# has licensed Drivers, uses top 10 used vehicle colours and \n",
    "# has car licensed with the Top 25 states with highest number of offences (to be deduced from the data)\n",
    "\n",
    "final_df_with_vehicle_make_info_df = drivers_with_license_df.join(speeding_related_offenses_df, on=[\"CRASH_ID\"]). \\\n",
    "                                    join(Units_use_df, on=[\"CRASH_ID\"]). \\\n",
    "                                    filter(Units_use_df[\"VEH_COLOR_ID\"].isin(top_10_colors_list)). \\\n",
    "                                    filter(Units_use_df[\"VEH_LIC_STATE_ID\"].isin(top_25_states_list)). \\\n",
    "                                    groupby(\"VEH_MAKE_ID\").count(). \\\n",
    "                                    orderBy(col(\"count\").desc())\n",
    "\n",
    "\n",
    "\n",
    "                                    \n",
    "\n",
    "\n",
    "final_df_with_vehicle_make_info_df = final_df_with_vehicle_make_info_df.limit(5)\n",
    "final_df_with_vehicle_make_info_df.show()"
   ]
  }
 ],
 "metadata": {
  "kernelspec": {
   "display_name": "Python 3 (ipykernel)",
   "language": "python",
   "name": "python3"
  },
  "language_info": {
   "codemirror_mode": {
    "name": "ipython",
    "version": 3
   },
   "file_extension": ".py",
   "mimetype": "text/x-python",
   "name": "python",
   "nbconvert_exporter": "python",
   "pygments_lexer": "ipython3",
   "version": "3.10.6"
  }
 },
 "nbformat": 4,
 "nbformat_minor": 5
}
